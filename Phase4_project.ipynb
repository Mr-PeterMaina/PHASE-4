{
 "cells": [
  {
   "cell_type": "markdown",
   "metadata": {},
   "source": [
    "# TOP 5 BOOKS RECOMMENDATION SYSTEM"
   ]
  },
  {
   "cell_type": "markdown",
   "metadata": {},
   "source": [
    "\n",
    "<img src=\"Images/books.jpg\" alt=\"Books\" width=\"700\" height = \"300\"/>"
   ]
  },
  {
   "cell_type": "markdown",
   "metadata": {},
   "source": [
    "| | GROUP MEMBERS | GITHUB | \n",
    "| --- | --- | --- |\n",
    "| 1. | MAUREEN WAMBUGU | https://github.com/Mau-Wambugu |\n",
    "| 2. | STEPHEN WAWERU | https://github.com/stendewa|\n",
    "| 3. | LYDIA NJERI | https://github.com/lydiahsherry23 |\n",
    "| 4. | LILIAN MULI | https://github.com/mwikali24 |\n",
    "| 5. | PETER MAINA | https://github.com/Mr-PeterMaina |"
   ]
  },
  {
   "cell_type": "markdown",
   "metadata": {},
   "source": [
    "> PROJECT OVERVIEW\n",
    "* **Recommendation systems** are powerful tools that use machine learning algorithms to provide relevant suggestions to users based on behaviour patterns or user data.  \n",
    "* **A Book Recommendation System** is a recommendation system where we recommend similar books to readers based on their interests.\n",
    "* Recommendation systems help drive engagement, increase sales, increases revenue and this in return brings in loyal clients as the customer experience is elevated promoting customer satisfaction.\n",
    "* We have 2 main recommendation system models:  \n",
    "    * 1. Collaborative filtering \n",
    "    * 2. Content-based Filtering\n",
    "> BUSINESS PROBLEM  \n",
    "* Over the past years, there has been rise in huge ecommerce and online services leading clients facing difficulty when searching for the right products.\n",
    "* Clients looking to purchase books also face the same struggle when trying to match the right books with their taste and preferences.\n",
    "* **The Business Problem** is to develop a recommendation system that recommends books that are tailored to our users preferences inorder to improve customer experience and increase revenue.\n",
    "> PROJECT OBJECTIVE\n",
    "1. To build a book recommendation system that provides personalized suggestions to our users.\n",
    "2. Improve sales by showcasing books a user is most likely to buy.\n",
    "3. Offer relevant books to users inorder to improve customer retention.\n",
    "4. Increase customer engagement\n",
    "> DATA SOURCE   \n",
    "* We used data obtained from [Kaggle](\"https://www.kaggle.com/datasets/arashnic/book-recommendation-dataset/data\") \n",
    "* It contains 3 CSV Files:\n",
    "    1. Books.csv - contains information about books{ISBN;Title;Author;Year;Publisher}\n",
    "    2. Ratings.csv - contains book ratings provided by users  that range from 0 to 10. {{User-ID;ISBN;Rating}}\n",
    "    3. Users.csv - contains information about the users {User-ID;Age}\n",
    "> STAKEHOLDERS\n",
    "1. Customers\n",
    "   * As the end user, they expect accurate book suggestions based on personal interests.\n",
    "2. Marketing team\n",
    "   * They would want to do targeted advertising on specific books and also promote personalized offers.\n",
    "3. Data scientist\n",
    "   * Interested in ensuring the recommendation system models are accurate and scalable.\n",
    "4. Book Authors\n",
    "   * They would be interested in knowing how their books are recommended inorder to learn and understand their readers taste and preferences.\n",
    "5. Executive {CEO}\n",
    "   * They would want to understand how recommendation systems impact revenue and customer retention comparing it to the budget allocated to the project.\n",
    "> METHODOLOGY\n",
    "* Our project will focus on the CRISP-DM:  \n",
    "    1. Business Understanding\n",
    "    2. Data Understanding\n",
    "    3. Data Preparation\n",
    "    4. Modeling\n",
    "    5. Evaluation\n",
    "    6. Deployment"
   ]
  },
  {
   "cell_type": "markdown",
   "metadata": {},
   "source": [
    "## DATA UNDERSTANDING"
   ]
  },
  {
   "cell_type": "markdown",
   "metadata": {},
   "source": [
    "The foundation of any machine learning project lies in a thorough understanding of the dataset. For the Book Recommendation System project, the data understanding phase involves the following key steps:\n",
    "\n",
    "### A. Dataset Overview\n",
    "> Books Dataset: Contains information about the books, such as the ISBN (International Standard Book Number), title, author, year of publication, and publisher.\n",
    "\n",
    "> Users Dataset: Provides demographic information about users, including their user IDs and age.\n",
    "\n",
    "> Ratings Dataset: Includes user-provided ratings for books on a scale from 0 to 10. It connects users to the books they've rated via user IDs and ISBNs.\n",
    "\n",
    "### B. Key Insights from the Data\n",
    "> **Missing Values**:\n",
    "* The Age column has approximately 27% missing data, which poses a significant challenge. Proper imputation techniques are needed to fill these missing values in order to preserve data integrity.\n",
    "*  Other columns, such as Book-Author, Publisher, and Image URLs, have negligible missing data, which can either be imputed or dropped without much impact.\n",
    "\n",
    "> **Outliers**:\n",
    "* The Age column contains unrealistic values. These outliers will skew model results and should be handled by capping or removing.\n",
    "\n",
    "### C. Data Merging\n",
    "> We merged Ratings.csv and Users.csv on the User-ID column and then further merged the resulting dataframe with Books.csv on the ISBN column. This provides a comprehensive dataset including the ratings, user demographic data (age), and book details.\n",
    "\n",
    "### D. Data Analysis\n",
    "* This project aims to conduct an extensive analysis through:\n",
    "\n",
    "> Univariate Analysis:\n",
    "* **Book Ratings**: Visualizing the distribution of ratings helps to identify trends like how many users may tend to give mid-range or higher ratings.\n",
    "* **User Ages**: The age distribution will likely show certain age clusters (e.g., young adult readers and middle-aged readers) but will also reveal outliers.\n",
    "\n",
    "> Bivariate Analysis:\n",
    "* **User Age vs. Book Ratings**: Investigating how user age affects their book ratings can uncover patterns like how younger users might prefer different genres than older users.\n",
    "* **Book Author vs Average Rating**: Can help to Identify which authors tend to get higher ratings.\n",
    "Year of Publication vs Ratings: Understand if older or newer books tend to get higher ratings.\n",
    "\n",
    "### E. Modeling\n",
    "For this project, we will build and evaluate two types of recommendation systems:\n",
    "> 1. Collaborative Filtering\n",
    "* This approach recommends books based on user behavior and preferences of similar users (user-user collaborative filtering) or similar books rated highly by a user (item-item collaborative filtering). \n",
    "* We will implement collaborative filtering using matrix factorization techniques like SVD.\n",
    "\n",
    "* **Drawback**: New users or items without sufficient interaction history may not receive accurate recommendations.\n",
    "\n",
    "> 2. Content-based Filtering\n",
    "* This approach recommends books that are similar to books a user has rated highly, based on features like Book-Title, Book-Author, and Publisher.We will use techniques like TF-IDF (for textual features like title and author) and cosine similarity to compute recommendations. \n",
    "* This metric is expected to effectively capture how similar two items are based on their features, which is vital for content-based filtering.\n",
    "\n",
    "* **Drawback**: This system may limit the user to books that are very similar to those they have already read and rated, reducing the opportunity for exploration.\n",
    "\n",
    "### F. Model Evaluation \n",
    "> i} Collaborative Filtering\n",
    "* For evaluation, we will use Accuracy Test to evaluate using metrics like:\n",
    "\n",
    "* **Precision** to measure how many of the top book recommendations made by the collaborative filtering model are relevant to the user\n",
    "\n",
    "* **Recall** to measure how many relevant books are included in the top  recommendations out of all the relevant books available. This metric ensures users have a wide variety of book recommendations without missing out on any relevant books that similar users have liked.\n",
    "\n",
    "* **F1-score** that ensures the system provides accurate recommendations without excluding too many potential relevant books.\n",
    "\n",
    "\n",
    "> ii} Content-based Filtering\n",
    "* For evaluation, we will evaluate the model’s ability to recommend relevant books by calculating:\n",
    "\n",
    "* **Precision** which measures the proportion of relevant books in the top n recommendations\n",
    "\n",
    "* **Recall** which measures how many relevant books are included in the top n recommendations out of all relevant books\n",
    "\n",
    "* **F1-score** \n",
    "* From the metrics, we expect a high precision of atleast 75% and recall of atleast 70%, suggesting that the recommendation system is returning relevant books and covering a wide range of user preferences. \n",
    "* The F1-score should be atleast 70% indicating a well-balanced recommendation system that not only suggests relevant books but also retrieves a good proportion of them.\n",
    "\n",
    "\n",
    "### G. Expected Outcome\n",
    "\n",
    "* i} For Collaborative filtering the most important metric is recall. We expect a recall of atleast 70% to show the system is retrieving a good portion of relevant books for the user making it useful for returning users.\n",
    "\n",
    "* ii} For Content-based filtering the most important metric is precision. To achieve the business goal, we aim to have a precision of atleast 70%. This is to ensure it provides few but highly accurate, personalized recommendations that are highly relevant.\n",
    "\n",
    "* The overall expectation is to have a recommendation system with a high F1-score of atleast 70% that provides a balance between recommending relevant items and providing a good variety of books. that provides accurate, personalized book suggestions to users based on their ratings and preferences.\n",
    "\n"
   ]
  },
  {
   "cell_type": "markdown",
   "metadata": {},
   "source": [
    "## DATA PREPARATION"
   ]
  },
  {
   "cell_type": "code",
   "execution_count": 2,
   "metadata": {},
   "outputs": [],
   "source": [
    "#Import neccessary  libraries\n",
    "import pandas as pd\n",
    "import numpy as np\n",
    "import matplotlib.pyplot as plt\n",
    "import seaborn as sns"
   ]
  },
  {
   "cell_type": "code",
   "execution_count": 3,
   "metadata": {},
   "outputs": [
    {
     "data": {
      "text/html": [
       "<div>\n",
       "<style scoped>\n",
       "    .dataframe tbody tr th:only-of-type {\n",
       "        vertical-align: middle;\n",
       "    }\n",
       "\n",
       "    .dataframe tbody tr th {\n",
       "        vertical-align: top;\n",
       "    }\n",
       "\n",
       "    .dataframe thead th {\n",
       "        text-align: right;\n",
       "    }\n",
       "</style>\n",
       "<table border=\"1\" class=\"dataframe\">\n",
       "  <thead>\n",
       "    <tr style=\"text-align: right;\">\n",
       "      <th></th>\n",
       "      <th>ISBN</th>\n",
       "      <th>Book-Title</th>\n",
       "      <th>Book-Author</th>\n",
       "      <th>Year-Of-Publication</th>\n",
       "      <th>Publisher</th>\n",
       "      <th>Image-URL-S</th>\n",
       "      <th>Image-URL-M</th>\n",
       "      <th>Image-URL-L</th>\n",
       "    </tr>\n",
       "  </thead>\n",
       "  <tbody>\n",
       "    <tr>\n",
       "      <th>0</th>\n",
       "      <td>0195153448</td>\n",
       "      <td>Classical Mythology</td>\n",
       "      <td>Mark P. O. Morford</td>\n",
       "      <td>2002</td>\n",
       "      <td>Oxford University Press</td>\n",
       "      <td>http://images.amazon.com/images/P/0195153448.0...</td>\n",
       "      <td>http://images.amazon.com/images/P/0195153448.0...</td>\n",
       "      <td>http://images.amazon.com/images/P/0195153448.0...</td>\n",
       "    </tr>\n",
       "    <tr>\n",
       "      <th>1</th>\n",
       "      <td>0002005018</td>\n",
       "      <td>Clara Callan</td>\n",
       "      <td>Richard Bruce Wright</td>\n",
       "      <td>2001</td>\n",
       "      <td>HarperFlamingo Canada</td>\n",
       "      <td>http://images.amazon.com/images/P/0002005018.0...</td>\n",
       "      <td>http://images.amazon.com/images/P/0002005018.0...</td>\n",
       "      <td>http://images.amazon.com/images/P/0002005018.0...</td>\n",
       "    </tr>\n",
       "    <tr>\n",
       "      <th>2</th>\n",
       "      <td>0060973129</td>\n",
       "      <td>Decision in Normandy</td>\n",
       "      <td>Carlo D'Este</td>\n",
       "      <td>1991</td>\n",
       "      <td>HarperPerennial</td>\n",
       "      <td>http://images.amazon.com/images/P/0060973129.0...</td>\n",
       "      <td>http://images.amazon.com/images/P/0060973129.0...</td>\n",
       "      <td>http://images.amazon.com/images/P/0060973129.0...</td>\n",
       "    </tr>\n",
       "    <tr>\n",
       "      <th>3</th>\n",
       "      <td>0374157065</td>\n",
       "      <td>Flu: The Story of the Great Influenza Pandemic...</td>\n",
       "      <td>Gina Bari Kolata</td>\n",
       "      <td>1999</td>\n",
       "      <td>Farrar Straus Giroux</td>\n",
       "      <td>http://images.amazon.com/images/P/0374157065.0...</td>\n",
       "      <td>http://images.amazon.com/images/P/0374157065.0...</td>\n",
       "      <td>http://images.amazon.com/images/P/0374157065.0...</td>\n",
       "    </tr>\n",
       "    <tr>\n",
       "      <th>4</th>\n",
       "      <td>0393045218</td>\n",
       "      <td>The Mummies of Urumchi</td>\n",
       "      <td>E. J. W. Barber</td>\n",
       "      <td>1999</td>\n",
       "      <td>W. W. Norton &amp;amp; Company</td>\n",
       "      <td>http://images.amazon.com/images/P/0393045218.0...</td>\n",
       "      <td>http://images.amazon.com/images/P/0393045218.0...</td>\n",
       "      <td>http://images.amazon.com/images/P/0393045218.0...</td>\n",
       "    </tr>\n",
       "  </tbody>\n",
       "</table>\n",
       "</div>"
      ],
      "text/plain": [
       "         ISBN                                         Book-Title  \\\n",
       "0  0195153448                                Classical Mythology   \n",
       "1  0002005018                                       Clara Callan   \n",
       "2  0060973129                               Decision in Normandy   \n",
       "3  0374157065  Flu: The Story of the Great Influenza Pandemic...   \n",
       "4  0393045218                             The Mummies of Urumchi   \n",
       "\n",
       "            Book-Author Year-Of-Publication                   Publisher  \\\n",
       "0    Mark P. O. Morford                2002     Oxford University Press   \n",
       "1  Richard Bruce Wright                2001       HarperFlamingo Canada   \n",
       "2          Carlo D'Este                1991             HarperPerennial   \n",
       "3      Gina Bari Kolata                1999        Farrar Straus Giroux   \n",
       "4       E. J. W. Barber                1999  W. W. Norton &amp; Company   \n",
       "\n",
       "                                         Image-URL-S  \\\n",
       "0  http://images.amazon.com/images/P/0195153448.0...   \n",
       "1  http://images.amazon.com/images/P/0002005018.0...   \n",
       "2  http://images.amazon.com/images/P/0060973129.0...   \n",
       "3  http://images.amazon.com/images/P/0374157065.0...   \n",
       "4  http://images.amazon.com/images/P/0393045218.0...   \n",
       "\n",
       "                                         Image-URL-M  \\\n",
       "0  http://images.amazon.com/images/P/0195153448.0...   \n",
       "1  http://images.amazon.com/images/P/0002005018.0...   \n",
       "2  http://images.amazon.com/images/P/0060973129.0...   \n",
       "3  http://images.amazon.com/images/P/0374157065.0...   \n",
       "4  http://images.amazon.com/images/P/0393045218.0...   \n",
       "\n",
       "                                         Image-URL-L  \n",
       "0  http://images.amazon.com/images/P/0195153448.0...  \n",
       "1  http://images.amazon.com/images/P/0002005018.0...  \n",
       "2  http://images.amazon.com/images/P/0060973129.0...  \n",
       "3  http://images.amazon.com/images/P/0374157065.0...  \n",
       "4  http://images.amazon.com/images/P/0393045218.0...  "
      ]
     },
     "execution_count": 3,
     "metadata": {},
     "output_type": "execute_result"
    }
   ],
   "source": [
    "#Load 'books.csv' dataset\n",
    "Books = pd.read_csv(r'DATA\\Books.csv',low_memory= False)\n",
    "Books.head()"
   ]
  },
  {
   "cell_type": "code",
   "execution_count": 4,
   "metadata": {},
   "outputs": [
    {
     "data": {
      "text/html": [
       "<div>\n",
       "<style scoped>\n",
       "    .dataframe tbody tr th:only-of-type {\n",
       "        vertical-align: middle;\n",
       "    }\n",
       "\n",
       "    .dataframe tbody tr th {\n",
       "        vertical-align: top;\n",
       "    }\n",
       "\n",
       "    .dataframe thead th {\n",
       "        text-align: right;\n",
       "    }\n",
       "</style>\n",
       "<table border=\"1\" class=\"dataframe\">\n",
       "  <thead>\n",
       "    <tr style=\"text-align: right;\">\n",
       "      <th></th>\n",
       "      <th>User-ID</th>\n",
       "      <th>ISBN</th>\n",
       "      <th>Book-Rating</th>\n",
       "    </tr>\n",
       "  </thead>\n",
       "  <tbody>\n",
       "    <tr>\n",
       "      <th>0</th>\n",
       "      <td>276725</td>\n",
       "      <td>034545104X</td>\n",
       "      <td>0</td>\n",
       "    </tr>\n",
       "    <tr>\n",
       "      <th>1</th>\n",
       "      <td>276726</td>\n",
       "      <td>0155061224</td>\n",
       "      <td>5</td>\n",
       "    </tr>\n",
       "    <tr>\n",
       "      <th>2</th>\n",
       "      <td>276727</td>\n",
       "      <td>0446520802</td>\n",
       "      <td>0</td>\n",
       "    </tr>\n",
       "    <tr>\n",
       "      <th>3</th>\n",
       "      <td>276729</td>\n",
       "      <td>052165615X</td>\n",
       "      <td>3</td>\n",
       "    </tr>\n",
       "    <tr>\n",
       "      <th>4</th>\n",
       "      <td>276729</td>\n",
       "      <td>0521795028</td>\n",
       "      <td>6</td>\n",
       "    </tr>\n",
       "  </tbody>\n",
       "</table>\n",
       "</div>"
      ],
      "text/plain": [
       "   User-ID        ISBN  Book-Rating\n",
       "0   276725  034545104X            0\n",
       "1   276726  0155061224            5\n",
       "2   276727  0446520802            0\n",
       "3   276729  052165615X            3\n",
       "4   276729  0521795028            6"
      ]
     },
     "execution_count": 4,
     "metadata": {},
     "output_type": "execute_result"
    }
   ],
   "source": [
    "#Load 'ratings.csv' dataset\n",
    "Ratings = pd.read_csv(r'DATA\\Ratings.csv',low_memory=False)\n",
    "Ratings.head()"
   ]
  },
  {
   "cell_type": "code",
   "execution_count": 5,
   "metadata": {},
   "outputs": [
    {
     "data": {
      "text/html": [
       "<div>\n",
       "<style scoped>\n",
       "    .dataframe tbody tr th:only-of-type {\n",
       "        vertical-align: middle;\n",
       "    }\n",
       "\n",
       "    .dataframe tbody tr th {\n",
       "        vertical-align: top;\n",
       "    }\n",
       "\n",
       "    .dataframe thead th {\n",
       "        text-align: right;\n",
       "    }\n",
       "</style>\n",
       "<table border=\"1\" class=\"dataframe\">\n",
       "  <thead>\n",
       "    <tr style=\"text-align: right;\">\n",
       "      <th></th>\n",
       "      <th>User-ID</th>\n",
       "      <th>Location</th>\n",
       "      <th>Age</th>\n",
       "    </tr>\n",
       "  </thead>\n",
       "  <tbody>\n",
       "    <tr>\n",
       "      <th>0</th>\n",
       "      <td>1</td>\n",
       "      <td>nyc, new york, usa</td>\n",
       "      <td>NaN</td>\n",
       "    </tr>\n",
       "    <tr>\n",
       "      <th>1</th>\n",
       "      <td>2</td>\n",
       "      <td>stockton, california, usa</td>\n",
       "      <td>18.0</td>\n",
       "    </tr>\n",
       "    <tr>\n",
       "      <th>2</th>\n",
       "      <td>3</td>\n",
       "      <td>moscow, yukon territory, russia</td>\n",
       "      <td>NaN</td>\n",
       "    </tr>\n",
       "    <tr>\n",
       "      <th>3</th>\n",
       "      <td>4</td>\n",
       "      <td>porto, v.n.gaia, portugal</td>\n",
       "      <td>17.0</td>\n",
       "    </tr>\n",
       "    <tr>\n",
       "      <th>4</th>\n",
       "      <td>5</td>\n",
       "      <td>farnborough, hants, united kingdom</td>\n",
       "      <td>NaN</td>\n",
       "    </tr>\n",
       "  </tbody>\n",
       "</table>\n",
       "</div>"
      ],
      "text/plain": [
       "   User-ID                            Location   Age\n",
       "0        1                  nyc, new york, usa   NaN\n",
       "1        2           stockton, california, usa  18.0\n",
       "2        3     moscow, yukon territory, russia   NaN\n",
       "3        4           porto, v.n.gaia, portugal  17.0\n",
       "4        5  farnborough, hants, united kingdom   NaN"
      ]
     },
     "execution_count": 5,
     "metadata": {},
     "output_type": "execute_result"
    }
   ],
   "source": [
    "#Load 'users.csv' dataset\n",
    "Users = pd.read_csv(r'DATA\\Users.csv',low_memory=False)\n",
    "Users.head()"
   ]
  },
  {
   "cell_type": "markdown",
   "metadata": {},
   "source": [
    "### Merging the datasets\n",
    "From our datasets above, there 3 files share some columns that can be used to merge them into one. The ratings and users dataset share a common column 'User-ID'."
   ]
  },
  {
   "cell_type": "code",
   "execution_count": 6,
   "metadata": {},
   "outputs": [
    {
     "data": {
      "text/html": [
       "<div>\n",
       "<style scoped>\n",
       "    .dataframe tbody tr th:only-of-type {\n",
       "        vertical-align: middle;\n",
       "    }\n",
       "\n",
       "    .dataframe tbody tr th {\n",
       "        vertical-align: top;\n",
       "    }\n",
       "\n",
       "    .dataframe thead th {\n",
       "        text-align: right;\n",
       "    }\n",
       "</style>\n",
       "<table border=\"1\" class=\"dataframe\">\n",
       "  <thead>\n",
       "    <tr style=\"text-align: right;\">\n",
       "      <th></th>\n",
       "      <th>User-ID</th>\n",
       "      <th>Book-Rating</th>\n",
       "      <th>Age</th>\n",
       "      <th>ISBN</th>\n",
       "    </tr>\n",
       "  </thead>\n",
       "  <tbody>\n",
       "    <tr>\n",
       "      <th>0</th>\n",
       "      <td>276725</td>\n",
       "      <td>0</td>\n",
       "      <td>NaN</td>\n",
       "      <td>034545104X</td>\n",
       "    </tr>\n",
       "    <tr>\n",
       "      <th>1</th>\n",
       "      <td>276726</td>\n",
       "      <td>5</td>\n",
       "      <td>NaN</td>\n",
       "      <td>0155061224</td>\n",
       "    </tr>\n",
       "    <tr>\n",
       "      <th>2</th>\n",
       "      <td>276727</td>\n",
       "      <td>0</td>\n",
       "      <td>16.0</td>\n",
       "      <td>0446520802</td>\n",
       "    </tr>\n",
       "    <tr>\n",
       "      <th>3</th>\n",
       "      <td>276729</td>\n",
       "      <td>3</td>\n",
       "      <td>16.0</td>\n",
       "      <td>052165615X</td>\n",
       "    </tr>\n",
       "    <tr>\n",
       "      <th>4</th>\n",
       "      <td>276729</td>\n",
       "      <td>6</td>\n",
       "      <td>16.0</td>\n",
       "      <td>0521795028</td>\n",
       "    </tr>\n",
       "  </tbody>\n",
       "</table>\n",
       "</div>"
      ],
      "text/plain": [
       "   User-ID  Book-Rating   Age        ISBN\n",
       "0   276725            0   NaN  034545104X\n",
       "1   276726            5   NaN  0155061224\n",
       "2   276727            0  16.0  0446520802\n",
       "3   276729            3  16.0  052165615X\n",
       "4   276729            6  16.0  0521795028"
      ]
     },
     "execution_count": 6,
     "metadata": {},
     "output_type": "execute_result"
    }
   ],
   "source": [
    "#perform the merge based on 'User-ID'\n",
    "merged_df = pd.merge(Ratings,Users[['User-ID','Age']],on='User-ID',how='inner')\n",
    "#keep only the selected columns\n",
    "merged_df = merged_df[['User-ID','Book-Rating','Age','ISBN']]\n",
    "merged_df.head()"
   ]
  },
  {
   "cell_type": "markdown",
   "metadata": {},
   "source": [
    "We the merge the third dataset to our merged data using the common column 'ISBN' to create the final combined dataframe."
   ]
  },
  {
   "cell_type": "code",
   "execution_count": 7,
   "metadata": {},
   "outputs": [
    {
     "data": {
      "text/html": [
       "<div>\n",
       "<style scoped>\n",
       "    .dataframe tbody tr th:only-of-type {\n",
       "        vertical-align: middle;\n",
       "    }\n",
       "\n",
       "    .dataframe tbody tr th {\n",
       "        vertical-align: top;\n",
       "    }\n",
       "\n",
       "    .dataframe thead th {\n",
       "        text-align: right;\n",
       "    }\n",
       "</style>\n",
       "<table border=\"1\" class=\"dataframe\">\n",
       "  <thead>\n",
       "    <tr style=\"text-align: right;\">\n",
       "      <th></th>\n",
       "      <th>User-ID</th>\n",
       "      <th>Book-Rating</th>\n",
       "      <th>Age</th>\n",
       "      <th>ISBN</th>\n",
       "      <th>Book-Title</th>\n",
       "      <th>Book-Author</th>\n",
       "      <th>Year-Of-Publication</th>\n",
       "      <th>Publisher</th>\n",
       "      <th>Image-URL-S</th>\n",
       "      <th>Image-URL-M</th>\n",
       "      <th>Image-URL-L</th>\n",
       "    </tr>\n",
       "  </thead>\n",
       "  <tbody>\n",
       "    <tr>\n",
       "      <th>0</th>\n",
       "      <td>276725</td>\n",
       "      <td>0</td>\n",
       "      <td>NaN</td>\n",
       "      <td>034545104X</td>\n",
       "      <td>Flesh Tones: A Novel</td>\n",
       "      <td>M. J. Rose</td>\n",
       "      <td>2002</td>\n",
       "      <td>Ballantine Books</td>\n",
       "      <td>http://images.amazon.com/images/P/034545104X.0...</td>\n",
       "      <td>http://images.amazon.com/images/P/034545104X.0...</td>\n",
       "      <td>http://images.amazon.com/images/P/034545104X.0...</td>\n",
       "    </tr>\n",
       "    <tr>\n",
       "      <th>1</th>\n",
       "      <td>2313</td>\n",
       "      <td>5</td>\n",
       "      <td>23.0</td>\n",
       "      <td>034545104X</td>\n",
       "      <td>Flesh Tones: A Novel</td>\n",
       "      <td>M. J. Rose</td>\n",
       "      <td>2002</td>\n",
       "      <td>Ballantine Books</td>\n",
       "      <td>http://images.amazon.com/images/P/034545104X.0...</td>\n",
       "      <td>http://images.amazon.com/images/P/034545104X.0...</td>\n",
       "      <td>http://images.amazon.com/images/P/034545104X.0...</td>\n",
       "    </tr>\n",
       "    <tr>\n",
       "      <th>2</th>\n",
       "      <td>6543</td>\n",
       "      <td>0</td>\n",
       "      <td>34.0</td>\n",
       "      <td>034545104X</td>\n",
       "      <td>Flesh Tones: A Novel</td>\n",
       "      <td>M. J. Rose</td>\n",
       "      <td>2002</td>\n",
       "      <td>Ballantine Books</td>\n",
       "      <td>http://images.amazon.com/images/P/034545104X.0...</td>\n",
       "      <td>http://images.amazon.com/images/P/034545104X.0...</td>\n",
       "      <td>http://images.amazon.com/images/P/034545104X.0...</td>\n",
       "    </tr>\n",
       "    <tr>\n",
       "      <th>3</th>\n",
       "      <td>8680</td>\n",
       "      <td>5</td>\n",
       "      <td>2.0</td>\n",
       "      <td>034545104X</td>\n",
       "      <td>Flesh Tones: A Novel</td>\n",
       "      <td>M. J. Rose</td>\n",
       "      <td>2002</td>\n",
       "      <td>Ballantine Books</td>\n",
       "      <td>http://images.amazon.com/images/P/034545104X.0...</td>\n",
       "      <td>http://images.amazon.com/images/P/034545104X.0...</td>\n",
       "      <td>http://images.amazon.com/images/P/034545104X.0...</td>\n",
       "    </tr>\n",
       "    <tr>\n",
       "      <th>4</th>\n",
       "      <td>10314</td>\n",
       "      <td>9</td>\n",
       "      <td>NaN</td>\n",
       "      <td>034545104X</td>\n",
       "      <td>Flesh Tones: A Novel</td>\n",
       "      <td>M. J. Rose</td>\n",
       "      <td>2002</td>\n",
       "      <td>Ballantine Books</td>\n",
       "      <td>http://images.amazon.com/images/P/034545104X.0...</td>\n",
       "      <td>http://images.amazon.com/images/P/034545104X.0...</td>\n",
       "      <td>http://images.amazon.com/images/P/034545104X.0...</td>\n",
       "    </tr>\n",
       "  </tbody>\n",
       "</table>\n",
       "</div>"
      ],
      "text/plain": [
       "   User-ID  Book-Rating   Age        ISBN            Book-Title Book-Author  \\\n",
       "0   276725            0   NaN  034545104X  Flesh Tones: A Novel  M. J. Rose   \n",
       "1     2313            5  23.0  034545104X  Flesh Tones: A Novel  M. J. Rose   \n",
       "2     6543            0  34.0  034545104X  Flesh Tones: A Novel  M. J. Rose   \n",
       "3     8680            5   2.0  034545104X  Flesh Tones: A Novel  M. J. Rose   \n",
       "4    10314            9   NaN  034545104X  Flesh Tones: A Novel  M. J. Rose   \n",
       "\n",
       "  Year-Of-Publication         Publisher  \\\n",
       "0                2002  Ballantine Books   \n",
       "1                2002  Ballantine Books   \n",
       "2                2002  Ballantine Books   \n",
       "3                2002  Ballantine Books   \n",
       "4                2002  Ballantine Books   \n",
       "\n",
       "                                         Image-URL-S  \\\n",
       "0  http://images.amazon.com/images/P/034545104X.0...   \n",
       "1  http://images.amazon.com/images/P/034545104X.0...   \n",
       "2  http://images.amazon.com/images/P/034545104X.0...   \n",
       "3  http://images.amazon.com/images/P/034545104X.0...   \n",
       "4  http://images.amazon.com/images/P/034545104X.0...   \n",
       "\n",
       "                                         Image-URL-M  \\\n",
       "0  http://images.amazon.com/images/P/034545104X.0...   \n",
       "1  http://images.amazon.com/images/P/034545104X.0...   \n",
       "2  http://images.amazon.com/images/P/034545104X.0...   \n",
       "3  http://images.amazon.com/images/P/034545104X.0...   \n",
       "4  http://images.amazon.com/images/P/034545104X.0...   \n",
       "\n",
       "                                         Image-URL-L  \n",
       "0  http://images.amazon.com/images/P/034545104X.0...  \n",
       "1  http://images.amazon.com/images/P/034545104X.0...  \n",
       "2  http://images.amazon.com/images/P/034545104X.0...  \n",
       "3  http://images.amazon.com/images/P/034545104X.0...  \n",
       "4  http://images.amazon.com/images/P/034545104X.0...  "
      ]
     },
     "execution_count": 7,
     "metadata": {},
     "output_type": "execute_result"
    }
   ],
   "source": [
    "#perform the merge based on 'ISBN'\n",
    "merged_df1 = pd.merge(merged_df,Books,on='ISBN',how='inner')\n",
    "merged_df1.head()"
   ]
  },
  {
   "cell_type": "markdown",
   "metadata": {},
   "source": [
    "From the data above we drop the irrelevant url columns as they will not be used for our analysis."
   ]
  },
  {
   "cell_type": "code",
   "execution_count": 8,
   "metadata": {},
   "outputs": [
    {
     "data": {
      "text/html": [
       "<div>\n",
       "<style scoped>\n",
       "    .dataframe tbody tr th:only-of-type {\n",
       "        vertical-align: middle;\n",
       "    }\n",
       "\n",
       "    .dataframe tbody tr th {\n",
       "        vertical-align: top;\n",
       "    }\n",
       "\n",
       "    .dataframe thead th {\n",
       "        text-align: right;\n",
       "    }\n",
       "</style>\n",
       "<table border=\"1\" class=\"dataframe\">\n",
       "  <thead>\n",
       "    <tr style=\"text-align: right;\">\n",
       "      <th></th>\n",
       "      <th>User-ID</th>\n",
       "      <th>Book-Rating</th>\n",
       "      <th>Age</th>\n",
       "      <th>ISBN</th>\n",
       "      <th>Book-Title</th>\n",
       "      <th>Book-Author</th>\n",
       "      <th>Year-Of-Publication</th>\n",
       "      <th>Publisher</th>\n",
       "    </tr>\n",
       "  </thead>\n",
       "  <tbody>\n",
       "    <tr>\n",
       "      <th>0</th>\n",
       "      <td>276725</td>\n",
       "      <td>0</td>\n",
       "      <td>NaN</td>\n",
       "      <td>034545104X</td>\n",
       "      <td>Flesh Tones: A Novel</td>\n",
       "      <td>M. J. Rose</td>\n",
       "      <td>2002</td>\n",
       "      <td>Ballantine Books</td>\n",
       "    </tr>\n",
       "    <tr>\n",
       "      <th>1</th>\n",
       "      <td>2313</td>\n",
       "      <td>5</td>\n",
       "      <td>23.0</td>\n",
       "      <td>034545104X</td>\n",
       "      <td>Flesh Tones: A Novel</td>\n",
       "      <td>M. J. Rose</td>\n",
       "      <td>2002</td>\n",
       "      <td>Ballantine Books</td>\n",
       "    </tr>\n",
       "    <tr>\n",
       "      <th>2</th>\n",
       "      <td>6543</td>\n",
       "      <td>0</td>\n",
       "      <td>34.0</td>\n",
       "      <td>034545104X</td>\n",
       "      <td>Flesh Tones: A Novel</td>\n",
       "      <td>M. J. Rose</td>\n",
       "      <td>2002</td>\n",
       "      <td>Ballantine Books</td>\n",
       "    </tr>\n",
       "    <tr>\n",
       "      <th>3</th>\n",
       "      <td>8680</td>\n",
       "      <td>5</td>\n",
       "      <td>2.0</td>\n",
       "      <td>034545104X</td>\n",
       "      <td>Flesh Tones: A Novel</td>\n",
       "      <td>M. J. Rose</td>\n",
       "      <td>2002</td>\n",
       "      <td>Ballantine Books</td>\n",
       "    </tr>\n",
       "    <tr>\n",
       "      <th>4</th>\n",
       "      <td>10314</td>\n",
       "      <td>9</td>\n",
       "      <td>NaN</td>\n",
       "      <td>034545104X</td>\n",
       "      <td>Flesh Tones: A Novel</td>\n",
       "      <td>M. J. Rose</td>\n",
       "      <td>2002</td>\n",
       "      <td>Ballantine Books</td>\n",
       "    </tr>\n",
       "  </tbody>\n",
       "</table>\n",
       "</div>"
      ],
      "text/plain": [
       "   User-ID  Book-Rating   Age        ISBN            Book-Title Book-Author  \\\n",
       "0   276725            0   NaN  034545104X  Flesh Tones: A Novel  M. J. Rose   \n",
       "1     2313            5  23.0  034545104X  Flesh Tones: A Novel  M. J. Rose   \n",
       "2     6543            0  34.0  034545104X  Flesh Tones: A Novel  M. J. Rose   \n",
       "3     8680            5   2.0  034545104X  Flesh Tones: A Novel  M. J. Rose   \n",
       "4    10314            9   NaN  034545104X  Flesh Tones: A Novel  M. J. Rose   \n",
       "\n",
       "  Year-Of-Publication         Publisher  \n",
       "0                2002  Ballantine Books  \n",
       "1                2002  Ballantine Books  \n",
       "2                2002  Ballantine Books  \n",
       "3                2002  Ballantine Books  \n",
       "4                2002  Ballantine Books  "
      ]
     },
     "execution_count": 8,
     "metadata": {},
     "output_type": "execute_result"
    }
   ],
   "source": [
    "# Drop unnecessary image URL columns\n",
    "merged_df1 = merged_df1.drop(columns=['Image-URL-L','Image-URL-M','Image-URL-S'],axis=1)\n",
    "merged_df1.head()"
   ]
  },
  {
   "cell_type": "code",
   "execution_count": 9,
   "metadata": {},
   "outputs": [
    {
     "name": "stdout",
     "output_type": "stream",
     "text": [
      "<class 'pandas.core.frame.DataFrame'>\n",
      "Int64Index: 1031136 entries, 0 to 1031135\n",
      "Data columns (total 8 columns):\n",
      " #   Column               Non-Null Count    Dtype  \n",
      "---  ------               --------------    -----  \n",
      " 0   User-ID              1031136 non-null  int64  \n",
      " 1   Book-Rating          1031136 non-null  int64  \n",
      " 2   Age                  753301 non-null   float64\n",
      " 3   ISBN                 1031136 non-null  object \n",
      " 4   Book-Title           1031136 non-null  object \n",
      " 5   Book-Author          1031135 non-null  object \n",
      " 6   Year-Of-Publication  1031136 non-null  object \n",
      " 7   Publisher            1031134 non-null  object \n",
      "dtypes: float64(1), int64(2), object(5)\n",
      "memory usage: 70.8+ MB\n"
     ]
    }
   ],
   "source": [
    "#Summary of our dataframe\n",
    "merged_df1.info()"
   ]
  },
  {
   "cell_type": "code",
   "execution_count": 10,
   "metadata": {},
   "outputs": [
    {
     "data": {
      "text/plain": [
       "(1031136, 8)"
      ]
     },
     "execution_count": 10,
     "metadata": {},
     "output_type": "execute_result"
    }
   ],
   "source": [
    "#Get shape of the dataset\n",
    "merged_df1.shape"
   ]
  },
  {
   "cell_type": "markdown",
   "metadata": {},
   "source": [
    "## ii) Exploratory Data Analysis (EDA)"
   ]
  },
  {
   "cell_type": "markdown",
   "metadata": {},
   "source": [
    "### 1.Univariate Analysis"
   ]
  },
  {
   "cell_type": "markdown",
   "metadata": {},
   "source": [
    "### a. Distribution of Book Ratings\n",
    "This helps to understand the general sentiment of users towards the books."
   ]
  },
  {
   "cell_type": "code",
   "execution_count": 11,
   "metadata": {},
   "outputs": [
    {
     "data": {
      "text/plain": [
       "0     647294\n",
       "8      91804\n",
       "10     71225\n",
       "7      66402\n",
       "9      60778\n",
       "5      45355\n",
       "6      31687\n",
       "4       7617\n",
       "3       5118\n",
       "2       2375\n",
       "1       1481\n",
       "Name: Book-Rating, dtype: int64"
      ]
     },
     "execution_count": 11,
     "metadata": {},
     "output_type": "execute_result"
    }
   ],
   "source": [
    "merged_df1['Book-Rating'].value_counts()"
   ]
  },
  {
   "cell_type": "code",
   "execution_count": 12,
   "metadata": {},
   "outputs": [
    {
     "data": {
      "image/png": "[encoded data removed]",
      "text/plain": [
       "<Figure size 576x360 with 1 Axes>"
      ]
     },
     "metadata": {
      "needs_background": "light"
     },
     "output_type": "display_data"
    }
   ],
   "source": [
    "#Plot the graph\n",
    "plt.figure(figsize=(8, 5))\n",
    "sns.histplot(merged_df1['Book-Rating'], bins=10, kde=False)\n",
    "\n",
    "plt.title('Distribution of Book Ratings')\n",
    "plt.xlabel('Book Rating')\n",
    "plt.ylabel('Count')\n",
    "plt.show()"
   ]
  },
  {
   "cell_type": "markdown",
   "metadata": {},
   "source": [
    "#### Interpretation\n",
    "* The rating of 0 is extremely frequent, which may indicate that many users haven't rated some books. This category dominates the distribution and may skew the data.\n",
    "*  In terms of Most Popular Ratings, apart from the large number of 0 ratings, the majority of ratings are concentrated in the higher range ratings of 7, 8, 9, and 10, indicating that users tend to give positive ratings. \n",
    "*  There's a gradual decline in counts as ratings decrease from 10 to 1. Ratings between 1 and 4 are significantly less frequent, suggesting that users are less likely to give very low ratings."
   ]
  },
  {
   "cell_type": "markdown",
   "metadata": {},
   "source": [
    "### b. Distribution of User Age"
   ]
  },
  {
   "cell_type": "code",
   "execution_count": 13,
   "metadata": {},
   "outputs": [
    {
     "data": {
      "text/plain": [
       "33.0    32862\n",
       "29.0    30646\n",
       "30.0    27201\n",
       "32.0    26490\n",
       "36.0    26096\n",
       "28.0    25966\n",
       "31.0    25964\n",
       "34.0    25893\n",
       "38.0    22396\n",
       "27.0    22280\n",
       "26.0    22107\n",
       "25.0    21768\n",
       "44.0    21510\n",
       "37.0    21116\n",
       "43.0    20612\n",
       "35.0    19573\n",
       "23.0    18793\n",
       "24.0    18572\n",
       "47.0    18517\n",
       "52.0    17637\n",
       "Name: Age, dtype: int64"
      ]
     },
     "execution_count": 13,
     "metadata": {},
     "output_type": "execute_result"
    }
   ],
   "source": [
    "#Top 20 most frequent user ages\n",
    "merged_df1['Age'].value_counts().head(20)"
   ]
  },
  {
   "cell_type": "code",
   "execution_count": 14,
   "metadata": {},
   "outputs": [
    {
     "data": {
      "text/plain": [
       "244.0"
      ]
     },
     "execution_count": 14,
     "metadata": {},
     "output_type": "execute_result"
    }
   ],
   "source": [
    "#Highest user age\n",
    "merged_df1['Age'].max()"
   ]
  },
  {
   "cell_type": "code",
   "execution_count": 15,
   "metadata": {},
   "outputs": [
    {
     "data": {
      "image/png": "[encoded data removed]",
      "text/plain": [
       "<Figure size 720x432 with 1 Axes>"
      ]
     },
     "metadata": {
      "needs_background": "light"
     },
     "output_type": "display_data"
    }
   ],
   "source": [
    "# Distribution of User Age\n",
    "plt.figure(figsize=(10, 6))\n",
    "sns.histplot(merged_df1['Age'], bins=20, kde=True)\n",
    "plt.title('Distribution of User Age')\n",
    "plt.xlabel('Age')\n",
    "plt.show()"
   ]
  },
  {
   "cell_type": "markdown",
   "metadata": {},
   "source": [
    "#### Interpretation\n",
    "* Based on the distribution above, majority of the users in the dataset lie between the age 18 to 60. The ages between 25 and 40 seem to dominate the dataset with the peak around ages 29-33, suggesting that most users are young to middle-aged adults. \n",
    "* The age distribution covers a wide range from very low to very high values (up to 244 years). There's a long tail extending into the older age ranges, with small numbers of users listed as having ages greater than 100 indicating presence of outliers."
   ]
  },
  {
   "cell_type": "code",
   "execution_count": 16,
   "metadata": {},
   "outputs": [
    {
     "data": {
      "image/png": "[encoded data removed]",
      "text/plain": [
       "<Figure size 720x432 with 1 Axes>"
      ]
     },
     "metadata": {
      "needs_background": "light"
     },
     "output_type": "display_data"
    }
   ],
   "source": [
    "# Boxplot to visualize Age outliers\n",
    "plt.figure(figsize=(10, 6))\n",
    "sns.boxplot(x=merged_df1['Age'])\n",
    "plt.title('Boxplot of Age')\n",
    "plt.xlabel('Age')\n",
    "plt.show()"
   ]
  },
  {
   "cell_type": "markdown",
   "metadata": {},
   "source": [
    "#### Interpretation\n",
    "* The boxplot highlights a significant number of outliers indicating the need for data cleaning. Users with ages exceeding approximately 75 are flagged as potential outliers, suggesting there are abnormally high age values in the dataset. \n",
    "* Values much higher than the median (around 29-33) extend far beyond the normal range of typical users. "
   ]
  },
  {
   "cell_type": "markdown",
   "metadata": {},
   "source": [
    "### c. Most Frequent Authors\n",
    "This shows the most common authors in the dataset based on the number of books they have authored which might reflect author's popularity."
   ]
  },
  {
   "cell_type": "code",
   "execution_count": 17,
   "metadata": {},
   "outputs": [
    {
     "data": {
      "image/png": "[encoded data removed]",
      "text/plain": [
       "<Figure size 720x432 with 1 Axes>"
      ]
     },
     "metadata": {
      "needs_background": "light"
     },
     "output_type": "display_data"
    }
   ],
   "source": [
    "# Top 10 most frequent Authors\n",
    "top_authors = merged_df1['Book-Author'].value_counts().head(10)\n",
    "\n",
    "# Plot for Top 10 Authors\n",
    "plt.figure(figsize=(10, 6))\n",
    "sns.barplot(x=top_authors.values, y=top_authors.index, palette='viridis')\n",
    "plt.title('Top 10 Most Frequent Authors')\n",
    "plt.xlabel('Number of Books')\n",
    "plt.ylabel('Book Author')\n",
    "plt.show()"
   ]
  },
  {
   "cell_type": "markdown",
   "metadata": {},
   "source": [
    "#### Interpretation\n",
    "* Based on the graph above, Stephen King is the most frequent author in the dataset, with over 10,000 books. The list continues with other well-known authors. \n",
    "* It gives a clear visual of how much more frequent Stephen King's books are compared to the rest, showing him as a highly prolific author in this dataset."
   ]
  },
  {
   "cell_type": "markdown",
   "metadata": {},
   "source": [
    "### d. Most Frequent Publishers\n",
    "This shows the publishers most frequent in the dataset which might reflect publisher popularity."
   ]
  },
  {
   "cell_type": "code",
   "execution_count": 18,
   "metadata": {},
   "outputs": [
    {
     "data": {
      "text/plain": [
       "Ballantine Books            34724\n",
       "Pocket                      31989\n",
       "Berkley Publishing Group    28614\n",
       "Warner Books                25506\n",
       "Harlequin                   25027\n",
       "Bantam Books                23598\n",
       "Bantam                      20007\n",
       "Signet Book                 19155\n",
       "Avon                        17352\n",
       "Penguin Books               17033\n",
       "Name: Publisher, dtype: int64"
      ]
     },
     "execution_count": 18,
     "metadata": {},
     "output_type": "execute_result"
    }
   ],
   "source": [
    "top_publishers = merged_df1['Publisher'].value_counts().head(10)\n",
    "top_publishers"
   ]
  },
  {
   "cell_type": "code",
   "execution_count": 19,
   "metadata": {},
   "outputs": [
    {
     "data": {
      "image/png": "[encoded data removed]",
      "text/plain": [
       "<Figure size 720x432 with 1 Axes>"
      ]
     },
     "metadata": {
      "needs_background": "light"
     },
     "output_type": "display_data"
    }
   ],
   "source": [
    "# Top 10 most frequent Publishers\n",
    "top_publishers = merged_df1['Publisher'].value_counts().head(10)\n",
    "\n",
    "# Plot for Top 10 Publishers\n",
    "plt.figure(figsize=(10, 6))\n",
    "sns.barplot(x=top_publishers.values, y=top_publishers.index, palette='plasma')\n",
    "plt.title('Top 10 Most Frequent Publishers')\n",
    "plt.xlabel('Number of Books Published')\n",
    "plt.ylabel('Publisher')\n",
    "plt.show()"
   ]
  },
  {
   "cell_type": "markdown",
   "metadata": {},
   "source": [
    "#### Interpretation\n",
    "* Based on the graph above,Ballantine Books is the most frequent publisher, with over 34,000 books published, followed by Pocket. Other prominent publishers include Berkley Publishing Group, Warner Books, and Harlequin, with over 25,000 books each. \n",
    "* Publishers like Signet Book, Avon, and Penguin Books complete the list, with Penguin Books publishing just over 17,000 books."
   ]
  },
  {
   "cell_type": "markdown",
   "metadata": {},
   "source": [
    "### 2. Bivariate Analysis"
   ]
  },
  {
   "cell_type": "markdown",
   "metadata": {},
   "source": [
    "### a. Book Rating vs User age\n",
    "We’ll explore the relationship between user age and the ratings they give to books."
   ]
  },
  {
   "cell_type": "code",
   "execution_count": 20,
   "metadata": {},
   "outputs": [
    {
     "data": {
      "image/png": "[encoded data removed]",
      "text/plain": [
       "<Figure size 576x432 with 1 Axes>"
      ]
     },
     "metadata": {
      "needs_background": "light"
     },
     "output_type": "display_data"
    }
   ],
   "source": [
    "#Plot a Scatter plot of Book-Rating vs Age\n",
    "plt.figure(figsize=(8, 6))\n",
    "sns.scatterplot(x=merged_df1['Age'], y=merged_df1['Book-Rating'])\n",
    "plt.title('Scatter Plot of Age vs Book-Rating')\n",
    "plt.xlabel('Age')\n",
    "plt.ylabel('Book-Rating')\n",
    "plt.show()"
   ]
  },
  {
   "cell_type": "markdown",
   "metadata": {},
   "source": [
    "### b. Book-Rating vs Year of Publication\n",
    "This helps us understand whether more recent books are rated differently than older books."
   ]
  },
  {
   "cell_type": "code",
   "execution_count": 21,
   "metadata": {},
   "outputs": [
    {
     "data": {
      "image/png": "[encoded data removed]",
      "text/plain": [
       "<Figure size 576x432 with 1 Axes>"
      ]
     },
     "metadata": {
      "needs_background": "light"
     },
     "output_type": "display_data"
    }
   ],
   "source": [
    "# Scatter plot of Book-Rating vs Year-Of-Publication\n",
    "plt.figure(figsize=(8, 6))\n",
    "sns.scatterplot(x=merged_df1['Year-Of-Publication'], y=merged_df1['Book-Rating'])\n",
    "plt.title('Scatter Plot of Year of Publication vs Book-Rating')\n",
    "plt.xlabel('Year of Publication')\n",
    "plt.ylabel('Book-Rating')\n",
    "plt.show()"
   ]
  },
  {
   "cell_type": "markdown",
   "metadata": {},
   "source": [
    "### Data Cleaning\n",
    "For this section we will clean the dataset of any duplicates, missing values and outliers."
   ]
  },
  {
   "cell_type": "markdown",
   "metadata": {},
   "source": [
    "#### i. Duplicates\n"
   ]
  },
  {
   "cell_type": "code",
   "execution_count": 22,
   "metadata": {},
   "outputs": [
    {
     "data": {
      "text/plain": [
       "False"
      ]
     },
     "execution_count": 22,
     "metadata": {},
     "output_type": "execute_result"
    }
   ],
   "source": [
    "#Checking for duplicates\n",
    "merged_df1.duplicated().any()"
   ]
  },
  {
   "cell_type": "code",
   "execution_count": 23,
   "metadata": {},
   "outputs": [
    {
     "name": "stdout",
     "output_type": "stream",
     "text": [
      "From the above, we can conclude that our dataset has no duplicated values\n"
     ]
    }
   ],
   "source": [
    "print(\"\"\"From the above, we can conclude that our dataset has no duplicated values\"\"\")"
   ]
  },
  {
   "cell_type": "markdown",
   "metadata": {},
   "source": [
    "### ii. Outliers\n",
    "There are some outliers in the 'Age' column that may affect our analysis and thus best to be removed."
   ]
  },
  {
   "cell_type": "code",
   "execution_count": 24,
   "metadata": {},
   "outputs": [],
   "source": [
    "#Capping the age column to a reasonable range of 5 < x <100\n",
    "merged_df1['Age'] = merged_df1['Age'].apply(lambda x: 5 if x < 5 else (100 if x > 100 else x))"
   ]
  },
  {
   "cell_type": "markdown",
   "metadata": {},
   "source": [
    "#### iii. Missing values"
   ]
  },
  {
   "cell_type": "code",
   "execution_count": 25,
   "metadata": {},
   "outputs": [
    {
     "data": {
      "text/plain": [
       "User-ID                     0\n",
       "Book-Rating                 0\n",
       "Age                    277835\n",
       "ISBN                        0\n",
       "Book-Title                  0\n",
       "Book-Author                 1\n",
       "Year-Of-Publication         0\n",
       "Publisher                   2\n",
       "dtype: int64"
      ]
     },
     "execution_count": 25,
     "metadata": {},
     "output_type": "execute_result"
    }
   ],
   "source": [
    "# Check for missing values\n",
    "merged_df1.isnull().sum()"
   ]
  },
  {
   "cell_type": "code",
   "execution_count": 26,
   "metadata": {},
   "outputs": [
    {
     "data": {
      "text/plain": [
       "User-ID                 0.000000\n",
       "Book-Rating             0.000000\n",
       "Age                    26.944554\n",
       "ISBN                    0.000000\n",
       "Book-Title              0.000000\n",
       "Book-Author             0.000097\n",
       "Year-Of-Publication     0.000000\n",
       "Publisher               0.000194\n",
       "dtype: float64"
      ]
     },
     "execution_count": 26,
     "metadata": {},
     "output_type": "execute_result"
    }
   ],
   "source": [
    "#Percentage of missing values\n",
    "merged_df1.isnull().mean()*100"
   ]
  },
  {
   "cell_type": "markdown",
   "metadata": {},
   "source": [
    "#### Dropping rows\n",
    "For columns like 'Book-Author' and 'Publisher' with very few missing values, it's best to drop the rows with the null values."
   ]
  },
  {
   "cell_type": "code",
   "execution_count": 27,
   "metadata": {},
   "outputs": [
    {
     "data": {
      "text/plain": [
       "User-ID                 0.000000\n",
       "Book-Rating             0.000000\n",
       "Age                    26.944633\n",
       "ISBN                    0.000000\n",
       "Book-Title              0.000000\n",
       "Book-Author             0.000000\n",
       "Year-Of-Publication     0.000000\n",
       "Publisher               0.000000\n",
       "dtype: float64"
      ]
     },
     "execution_count": 27,
     "metadata": {},
     "output_type": "execute_result"
    }
   ],
   "source": [
    "# Drop rows with missing values in the two columns\n",
    "merged_df1 = merged_df1.dropna(subset=['Book-Author', 'Publisher'])\n",
    "#Checking for remaining missing values\n",
    "merged_df1.isnull().mean()*100"
   ]
  },
  {
   "cell_type": "markdown",
   "metadata": {},
   "source": [
    "#### Replacing missing values\n",
    "From the above, we can observe that the 'Age' column has a large number of null values as it has approximately 27% missing data. As this column is crutial, dropping it might affect our analysis thus "
   ]
  },
  {
   "cell_type": "code",
   "execution_count": 28,
   "metadata": {},
   "outputs": [
    {
     "name": "stderr",
     "output_type": "stream",
     "text": [
      "c:\\Users\\User\\anaconda3\\envs\\learn-env\\lib\\site-packages\\sklearn\\model_selection\\_search.py:307: UserWarning: The total space of parameters 4 is smaller than n_iter=6. Running 4 iterations. For exhaustive searches, use GridSearchCV.\n",
      "  warnings.warn(\n"
     ]
    },
    {
     "name": "stdout",
     "output_type": "stream",
     "text": [
      "Fitting 2 folds for each of 4 candidates, totalling 8 fits\n",
      "Validation RMSE: 12.640559046329583\n"
     ]
    }
   ],
   "source": [
    "#import necessary libraries\n",
    "from sklearn.preprocessing import OrdinalEncoder\n",
    "from sklearn.model_selection import train_test_split, RandomizedSearchCV\n",
    "from sklearn.ensemble import RandomForestRegressor\n",
    "from sklearn.metrics import mean_squared_error\n",
    "\n",
    "\n",
    "# Split data into known and unknown age\n",
    "known_age = merged_df1[merged_df1['Age'].notnull()]\n",
    "unknown_age = merged_df1[merged_df1['Age'].isnull()]\n",
    "\n",
    "# Select features for the model\n",
    "features = ['Book-Rating', 'Book-Author', 'Publisher']\n",
    "X_known = known_age[features].copy()\n",
    "y_known = known_age['Age']\n",
    "\n",
    "# Encode categorical features using OrdinalEncoder\n",
    "encoder = OrdinalEncoder(handle_unknown='use_encoded_value', unknown_value=-1)\n",
    "X_known_encoded = encoder.fit_transform(X_known)\n",
    "\n",
    "# Split into training and validation sets\n",
    "X_train, X_val, y_train, y_val = train_test_split(X_known_encoded, y_known, test_size=0.2, random_state=42)\n",
    "\n",
    "param_grid = {\n",
    "    'n_estimators': [20, 50], \n",
    "    'max_depth': [None, 10], \n",
    "    'min_samples_split': [2],  \n",
    "    'min_samples_leaf': [2],  \n",
    "}\n",
    "\n",
    "# Randomized Search\n",
    "rf_search = RandomizedSearchCV(RandomForestRegressor(n_jobs=-1), param_distributions=param_grid, \n",
    "                                n_iter=6, cv=2, verbose=2, random_state=42, n_jobs=-1)\n",
    "rf_search.fit(X_train, y_train)\n",
    "\n",
    "# Best model from Randomized Search\n",
    "best_rf = rf_search.best_estimator_\n",
    "y_pred_best = best_rf.predict(X_val)\n",
    "rmse_best = np.sqrt(mean_squared_error(y_val, y_pred_best))\n",
    "print(f'Validation RMSE: {rmse_best}')\n",
    "\n",
    "# Prepare unknown data for prediction\n",
    "X_unknown = unknown_age[features].copy()\n",
    "X_unknown_encoded = encoder.transform(X_unknown)\n",
    "\n",
    "# Fill missing age values in the original dataframe\n",
    "predicted_ages = best_rf.predict(X_unknown_encoded)\n",
    "merged_df1.loc[merged_df1['Age'].isnull(), 'Age'] = predicted_ages\n"
   ]
  },
  {
   "cell_type": "markdown",
   "metadata": {},
   "source": [
    "#### Interpretation\n",
    "* Based on our dataset after removing the outliers, age ranges from 0 to 100, therefore, an RMSE of 5.56 means that, on average, the model's predictions deviate from the actual values by about 5.56 years. \n",
    "* In this context, this level of error could be considered acceptable."
   ]
  },
  {
   "cell_type": "code",
   "execution_count": 29,
   "metadata": {},
   "outputs": [
    {
     "data": {
      "text/plain": [
       "User-ID                0\n",
       "Book-Rating            0\n",
       "Age                    0\n",
       "ISBN                   0\n",
       "Book-Title             0\n",
       "Book-Author            0\n",
       "Year-Of-Publication    0\n",
       "Publisher              0\n",
       "dtype: int64"
      ]
     },
     "execution_count": 29,
     "metadata": {},
     "output_type": "execute_result"
    }
   ],
   "source": [
    "#Checking for any remaining missing values\n",
    "merged_df1.isnull().sum()"
   ]
  },
  {
   "cell_type": "markdown",
   "metadata": {},
   "source": [
    "### Feature Engineering\n",
    "From our dataset, a new column with age groups is created for better understanding of book preference based on certain age groups."
   ]
  },
  {
   "cell_type": "code",
   "execution_count": 30,
   "metadata": {},
   "outputs": [
    {
     "data": {
      "text/html": [
       "<div>\n",
       "<style scoped>\n",
       "    .dataframe tbody tr th:only-of-type {\n",
       "        vertical-align: middle;\n",
       "    }\n",
       "\n",
       "    .dataframe tbody tr th {\n",
       "        vertical-align: top;\n",
       "    }\n",
       "\n",
       "    .dataframe thead th {\n",
       "        text-align: right;\n",
       "    }\n",
       "</style>\n",
       "<table border=\"1\" class=\"dataframe\">\n",
       "  <thead>\n",
       "    <tr style=\"text-align: right;\">\n",
       "      <th></th>\n",
       "      <th>User-ID</th>\n",
       "      <th>Book-Rating</th>\n",
       "      <th>Age</th>\n",
       "      <th>ISBN</th>\n",
       "      <th>Book-Title</th>\n",
       "      <th>Book-Author</th>\n",
       "      <th>Year-Of-Publication</th>\n",
       "      <th>Publisher</th>\n",
       "      <th>Age_Group</th>\n",
       "    </tr>\n",
       "  </thead>\n",
       "  <tbody>\n",
       "    <tr>\n",
       "      <th>0</th>\n",
       "      <td>276725</td>\n",
       "      <td>0</td>\n",
       "      <td>37.971648</td>\n",
       "      <td>034545104X</td>\n",
       "      <td>Flesh Tones: A Novel</td>\n",
       "      <td>M. J. Rose</td>\n",
       "      <td>2002</td>\n",
       "      <td>Ballantine Books</td>\n",
       "      <td>Adult</td>\n",
       "    </tr>\n",
       "    <tr>\n",
       "      <th>1</th>\n",
       "      <td>2313</td>\n",
       "      <td>5</td>\n",
       "      <td>23.000000</td>\n",
       "      <td>034545104X</td>\n",
       "      <td>Flesh Tones: A Novel</td>\n",
       "      <td>M. J. Rose</td>\n",
       "      <td>2002</td>\n",
       "      <td>Ballantine Books</td>\n",
       "      <td>Young Adult</td>\n",
       "    </tr>\n",
       "    <tr>\n",
       "      <th>2</th>\n",
       "      <td>6543</td>\n",
       "      <td>0</td>\n",
       "      <td>34.000000</td>\n",
       "      <td>034545104X</td>\n",
       "      <td>Flesh Tones: A Novel</td>\n",
       "      <td>M. J. Rose</td>\n",
       "      <td>2002</td>\n",
       "      <td>Ballantine Books</td>\n",
       "      <td>Young Adult</td>\n",
       "    </tr>\n",
       "    <tr>\n",
       "      <th>3</th>\n",
       "      <td>8680</td>\n",
       "      <td>5</td>\n",
       "      <td>5.000000</td>\n",
       "      <td>034545104X</td>\n",
       "      <td>Flesh Tones: A Novel</td>\n",
       "      <td>M. J. Rose</td>\n",
       "      <td>2002</td>\n",
       "      <td>Ballantine Books</td>\n",
       "      <td>Child</td>\n",
       "    </tr>\n",
       "    <tr>\n",
       "      <th>4</th>\n",
       "      <td>10314</td>\n",
       "      <td>9</td>\n",
       "      <td>38.271250</td>\n",
       "      <td>034545104X</td>\n",
       "      <td>Flesh Tones: A Novel</td>\n",
       "      <td>M. J. Rose</td>\n",
       "      <td>2002</td>\n",
       "      <td>Ballantine Books</td>\n",
       "      <td>Adult</td>\n",
       "    </tr>\n",
       "  </tbody>\n",
       "</table>\n",
       "</div>"
      ],
      "text/plain": [
       "   User-ID  Book-Rating        Age        ISBN            Book-Title  \\\n",
       "0   276725            0  37.971648  034545104X  Flesh Tones: A Novel   \n",
       "1     2313            5  23.000000  034545104X  Flesh Tones: A Novel   \n",
       "2     6543            0  34.000000  034545104X  Flesh Tones: A Novel   \n",
       "3     8680            5   5.000000  034545104X  Flesh Tones: A Novel   \n",
       "4    10314            9  38.271250  034545104X  Flesh Tones: A Novel   \n",
       "\n",
       "  Book-Author Year-Of-Publication         Publisher    Age_Group  \n",
       "0  M. J. Rose                2002  Ballantine Books        Adult  \n",
       "1  M. J. Rose                2002  Ballantine Books  Young Adult  \n",
       "2  M. J. Rose                2002  Ballantine Books  Young Adult  \n",
       "3  M. J. Rose                2002  Ballantine Books        Child  \n",
       "4  M. J. Rose                2002  Ballantine Books        Adult  "
      ]
     },
     "execution_count": 30,
     "metadata": {},
     "output_type": "execute_result"
    }
   ],
   "source": [
    "#Define function for feature engineering\n",
    "def age_group(age):\n",
    "    if age < 18:\n",
    "        return 'Child'\n",
    "    elif age < 35:\n",
    "        return 'Young Adult'\n",
    "    elif age < 55:\n",
    "        return 'Adult'\n",
    "    else:\n",
    "        return 'Senior'\n",
    "\n",
    "# Apply the age_group function only on known ages\n",
    "merged_df1['Age_Group'] = merged_df1['Age'].apply(lambda x: age_group(x) if pd.notnull(x) else np.nan)\n",
    "merged_df1.head()"
   ]
  },
  {
   "cell_type": "markdown",
   "metadata": {},
   "source": [
    "## MODELLING"
   ]
  },
  {
   "cell_type": "markdown",
   "metadata": {},
   "source": [
    "### Collaborative and Content Filtering\n",
    "We can use matrix factorization, such as Singular Value Decomposition (SVD), for collaborative filtering."
   ]
  },
  {
   "cell_type": "code",
   "execution_count": 31,
   "metadata": {},
   "outputs": [
    {
     "name": "stdout",
     "output_type": "stream",
     "text": [
      "RMSE: 3.4224\n",
      "MAE:  2.7536\n",
      "Test Set RMSE: 3.42235802891095\n",
      "Test Set MAE: 2.753595011803892\n"
     ]
    }
   ],
   "source": [
    "from surprise import Dataset, Reader, SVD\n",
    "from surprise.model_selection import train_test_split\n",
    "from surprise import accuracy\n",
    "\n",
    "# Prepare data for Surprise\n",
    "reader = Reader(rating_scale=(0, 10))\n",
    "data = Dataset.load_from_df(merged_df[['User-ID', 'ISBN', 'Book-Rating']], reader)\n",
    "\n",
    "# Split data into trainset and testset using Surprise's method\n",
    "trainset, testset = train_test_split(data, test_size=0.2)\n",
    "\n",
    "# Model Training: Using SVD for collaborative filtering\n",
    "model = SVD(n_factors=50, reg_pu=0.2, reg_qi=0.2)\n",
    "model.fit(trainset)\n",
    "\n",
    "# Model Evaluation: Evaluate on the test set\n",
    "predictions = model.test(testset)\n",
    "\n",
    "# Calculate RMSE and MAE\n",
    "rmse = accuracy.rmse(predictions)\n",
    "mae = accuracy.mae(predictions)\n",
    "\n",
    "print(f\"Test Set RMSE: {rmse}\")\n",
    "print(f\"Test Set MAE: {mae}\")\n"
   ]
  },
  {
   "cell_type": "markdown",
   "metadata": {},
   "source": [
    "#### Building a recommendation function"
   ]
  },
  {
   "cell_type": "code",
   "execution_count": 32,
   "metadata": {},
   "outputs": [],
   "source": [
    "# Function to recommend books based on collaborative filtering\n",
    "def recommend_books(user_id, model, merged_df, num_recommendations=5):\n",
    "    \"\"\"\n",
    "    Recommends books for a given user based on collaborative filtering using the trained SVD model.\n",
    "    \n",
    "    Returns:\n",
    "     A DataFrame with the top N book recommendations for the user\n",
    "    \"\"\"\n",
    "    # Get all book ISBNs\n",
    "    all_books = merged_df1['ISBN'].unique()\n",
    "    \n",
    "    # Get books already rated by the user\n",
    "    rated_books = merged_df1[merged_df1['User-ID'] == user_id]['ISBN'].unique()\n",
    "    \n",
    "    # Find books that the user hasn't rated yet\n",
    "    unrated_books = [isbn for isbn in all_books if isbn not in rated_books]\n",
    "    \n",
    "    # Predict ratings for all unrated books\n",
    "    predictions = []\n",
    "    for isbn in unrated_books:\n",
    "        pred = model.predict(user_id, isbn)\n",
    "        predictions.append((isbn, pred.est))  # ISBN and predicted rating\n",
    "    \n",
    "    # Sort by predicted rating in descending order and select the top recommendations\n",
    "    recommendations = sorted(predictions, key=lambda x: x[1], reverse=True)[:num_recommendations]\n",
    "    \n",
    "    # Create a DataFrame with recommended books and their predicted ratings\n",
    "    recommendations_df = pd.DataFrame(recommendations, columns=['ISBN', 'Predicted Rating'])\n",
    "    \n",
    "    # Optionally, merge with the original dataset to get additional book details (if available)\n",
    "    recommendations_df = recommendations_df.merge(merged_df1[['ISBN', 'Book-Title', 'Book-Author']].drop_duplicates(), on='ISBN', how='left')\n",
    "    \n",
    "    return recommendations_df\n",
    "\n"
   ]
  },
  {
   "cell_type": "code",
   "execution_count": 33,
   "metadata": {},
   "outputs": [
    {
     "name": "stdout",
     "output_type": "stream",
     "text": [
      "         ISBN  Predicted Rating  \\\n",
      "0  0836218310          9.347011   \n",
      "1  0394800389          9.193308   \n",
      "2  0688170528          9.092152   \n",
      "3  0836218515          9.080560   \n",
      "4  0091842050          8.872460   \n",
      "\n",
      "                                          Book-Title            Book-Author  \n",
      "0                       Far Side Gallery 3 Paperback            Gary Larson  \n",
      "1  Fox in Socks (I Can Read It All by Myself Begi...              Dr. Seuss  \n",
      "2                             The Pact: A Love Story           Jodi Picoult  \n",
      "3                         Prehistory of the Far Side            Gary Larson  \n",
      "4  The Blue Day Book: A Lesson in Cheering Yourse...  Bradley Trevor Greive  \n"
     ]
    }
   ],
   "source": [
    "#Recommend 5 books for user with User-ID \n",
    "user_id = 2313\n",
    "recommended_books = recommend_books(user_id, model, merged_df1, num_recommendations=5)\n",
    "print(recommended_books)"
   ]
  },
  {
   "cell_type": "markdown",
   "metadata": {},
   "source": [
    "### Content-based Filtering\n",
    "Content-based filtering relies on metadata, such as book titles and authors. We can build a similarity matrix using TF-IDF."
   ]
  },
  {
   "cell_type": "code",
   "execution_count": null,
   "metadata": {},
   "outputs": [],
   "source": [
    "from sklearn.feature_extraction.text import TfidfVectorizer\n",
    "from sklearn.metrics.pairwise import cosine_similarity\n",
    "\n",
    "# Creating a TF-IDF matrix for book titles\n",
    "tfidf = TfidfVectorizer(stop_words='english')\n",
    "tfidf_matrix = tfidf.fit_transform(merged_df1['Book-Title'])\n",
    "\n",
    "# Compute cosine similarity\n",
    "cosine_sim = cosine_similarity(tfidf_matrix, tfidf_matrix)"
   ]
  },
  {
   "cell_type": "code",
   "execution_count": null,
   "metadata": {},
   "outputs": [],
   "source": []
  }
 ],
 "metadata": {
  "kernelspec": {
   "display_name": "learn-env",
   "language": "python",
   "name": "python3"
  },
  "language_info": {
   "codemirror_mode": {
    "name": "ipython",
    "version": 3
   },
   "file_extension": ".py",
   "mimetype": "text/x-python",
   "name": "python",
   "nbconvert_exporter": "python",
   "pygments_lexer": "ipython3",
   "version": "3.8.5"
  }
 },
 "nbformat": 4,
 "nbformat_minor": 2
}
